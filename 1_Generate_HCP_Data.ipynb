{
 "cells": [
  {
   "cell_type": "markdown",
   "id": "4df4fa1b",
   "metadata": {},
   "source": [
    "# Generate HCP Data for Multi-Touch Attribution Research\n",
    "\n",
    "This notebook will generate synthetic but realistic healthcare practitioner data intended for sequential multi-touch attribution research.\n",
    "\n",
    "We need to try to bake in the following phenomenon.\n",
    "\n",
    "1) impact to conversion based on \n",
    "\n",
    "    - the sequence or ordering of events\n",
    "    \n",
    "    - the presence of unique tactics\n",
    "    \n",
    "    - the proximity of tactics to conversion\n",
    " \n",
    " 2) that impacts may vary based on controls such as HCP demographics\n",
    " \n",
    " 3) that there could be hidden confounds or unknown controls\n",
    " \n",
    " 4) that we don't get full or hollistic data. \n",
    " \n",
    " To keep things simple we will use the following marketing channels\n",
    " \n",
    "  - sales calls\n",
    "  - samples\n",
    "  - speaker program\n",
    "  - home office email\n",
    "  - third party email\n",
    "  - sales rep email\n",
    "  - digital display banners\n",
    "  \n",
    " One target variable which will be new patient prescriptions (NBRx)"
   ]
  },
  {
   "cell_type": "code",
   "execution_count": 2,
   "id": "30d6b4b6",
   "metadata": {},
   "outputs": [
    {
     "ename": "ModuleNotFoundError",
     "evalue": "No module named 'ydata_synthetic'",
     "output_type": "error",
     "traceback": [
      "\u001b[1;31m---------------------------------------------------------------------------\u001b[0m",
      "\u001b[1;31mModuleNotFoundError\u001b[0m                       Traceback (most recent call last)",
      "\u001b[1;32m~\\AppData\\Local\\Temp\\ipykernel_46420\\884429083.py\u001b[0m in \u001b[0;36m<module>\u001b[1;34m\u001b[0m\n\u001b[0;32m      5\u001b[0m \u001b[1;33m\u001b[0m\u001b[0m\n\u001b[0;32m      6\u001b[0m \u001b[1;31m#\u001b[0m\u001b[1;33m\u001b[0m\u001b[1;33m\u001b[0m\u001b[0m\n\u001b[1;32m----> 7\u001b[1;33m \u001b[1;32mfrom\u001b[0m \u001b[0mydata_synthetic\u001b[0m\u001b[1;33m.\u001b[0m\u001b[0msynthesizers\u001b[0m\u001b[1;33m.\u001b[0m\u001b[0mregular\u001b[0m \u001b[1;32mimport\u001b[0m \u001b[0mRegularSynthesizer\u001b[0m\u001b[1;33m\u001b[0m\u001b[1;33m\u001b[0m\u001b[0m\n\u001b[0m\u001b[0;32m      8\u001b[0m \u001b[1;32mfrom\u001b[0m \u001b[0mydata_synthetic\u001b[0m\u001b[1;33m.\u001b[0m\u001b[0msynthesizers\u001b[0m \u001b[1;32mimport\u001b[0m \u001b[0mModelParameters\u001b[0m\u001b[1;33m,\u001b[0m \u001b[0mTrainParameters\u001b[0m\u001b[1;33m\u001b[0m\u001b[1;33m\u001b[0m\u001b[0m\n",
      "\u001b[1;31mModuleNotFoundError\u001b[0m: No module named 'ydata_synthetic'"
     ]
    }
   ],
   "source": [
    "## here we import already installed packages that are not part of base python programming language\n",
    "\n",
    "import pandas as pd # the main data wrangling package for tabular datasets \n",
    "import numpy as np # provides efficient and powerful numerical operations\n",
    "\n",
    "#\n",
    "from ydata_synthetic.synthesizers.regular import RegularSynthesizer\n",
    "from ydata_synthetic.synthesizers import ModelParameters, TrainParameters"
   ]
  },
  {
   "cell_type": "code",
   "execution_count": null,
   "id": "3407cdbd",
   "metadata": {},
   "outputs": [],
   "source": []
  }
 ],
 "metadata": {
  "kernelspec": {
   "display_name": "Python 3 (ipykernel)",
   "language": "python",
   "name": "python3"
  },
  "language_info": {
   "codemirror_mode": {
    "name": "ipython",
    "version": 3
   },
   "file_extension": ".py",
   "mimetype": "text/x-python",
   "name": "python",
   "nbconvert_exporter": "python",
   "pygments_lexer": "ipython3",
   "version": "3.9.13"
  }
 },
 "nbformat": 4,
 "nbformat_minor": 5
}
